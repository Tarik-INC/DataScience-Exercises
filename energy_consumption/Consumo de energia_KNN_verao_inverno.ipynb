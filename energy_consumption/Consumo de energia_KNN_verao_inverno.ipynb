{
 "cells": [
  {
   "cell_type": "code",
   "execution_count": 40,
   "metadata": {},
   "outputs": [],
   "source": [
    "import pandas as pd\n",
    "import numpy as np\n",
    "import matplotlib.pyplot as plt\n",
    "import seaborn as sns\n",
    "from sklearn.neighbors import KNeighborsRegressor "
   ]
  },
  {
   "cell_type": "code",
   "execution_count": 8,
   "metadata": {},
   "outputs": [
    {
     "data": {
      "text/html": [
       "<div>\n",
       "<style scoped>\n",
       "    .dataframe tbody tr th:only-of-type {\n",
       "        vertical-align: middle;\n",
       "    }\n",
       "\n",
       "    .dataframe tbody tr th {\n",
       "        vertical-align: top;\n",
       "    }\n",
       "\n",
       "    .dataframe thead th {\n",
       "        text-align: right;\n",
       "    }\n",
       "</style>\n",
       "<table border=\"1\" class=\"dataframe\">\n",
       "  <thead>\n",
       "    <tr style=\"text-align: right;\">\n",
       "      <th></th>\n",
       "      <th>weekDay</th>\n",
       "      <th>Season</th>\n",
       "      <th>consumption</th>\n",
       "    </tr>\n",
       "  </thead>\n",
       "  <tbody>\n",
       "    <tr>\n",
       "      <th>0</th>\n",
       "      <td>1</td>\n",
       "      <td>1</td>\n",
       "      <td>0.267437</td>\n",
       "    </tr>\n",
       "    <tr>\n",
       "      <th>1</th>\n",
       "      <td>2</td>\n",
       "      <td>1</td>\n",
       "      <td>21.229095</td>\n",
       "    </tr>\n",
       "    <tr>\n",
       "      <th>2</th>\n",
       "      <td>3</td>\n",
       "      <td>1</td>\n",
       "      <td>18.265336</td>\n",
       "    </tr>\n",
       "    <tr>\n",
       "      <th>3</th>\n",
       "      <td>4</td>\n",
       "      <td>1</td>\n",
       "      <td>24.125835</td>\n",
       "    </tr>\n",
       "    <tr>\n",
       "      <th>4</th>\n",
       "      <td>5</td>\n",
       "      <td>1</td>\n",
       "      <td>28.277478</td>\n",
       "    </tr>\n",
       "  </tbody>\n",
       "</table>\n",
       "</div>"
      ],
      "text/plain": [
       "   weekDay  Season  consumption\n",
       "0        1       1     0.267437\n",
       "1        2       1    21.229095\n",
       "2        3       1    18.265336\n",
       "3        4       1    24.125835\n",
       "4        5       1    28.277478"
      ]
     },
     "execution_count": 8,
     "metadata": {},
     "output_type": "execute_result"
    }
   ],
   "source": [
    "consumption = pd.read_csv('Consumo_season_verao_inverno.csv')\n",
    "consumption.head()"
   ]
  },
  {
   "cell_type": "code",
   "execution_count": 33,
   "metadata": {},
   "outputs": [
    {
     "data": {
      "text/plain": [
       "array([[1, 1],\n",
       "       [2, 1],\n",
       "       [3, 1],\n",
       "       [4, 1],\n",
       "       [5, 1],\n",
       "       [6, 1],\n",
       "       [7, 1],\n",
       "       [1, 1],\n",
       "       [2, 1],\n",
       "       [3, 1],\n",
       "       [4, 1],\n",
       "       [5, 1],\n",
       "       [6, 1],\n",
       "       [7, 1],\n",
       "       [1, 1],\n",
       "       [2, 1],\n",
       "       [3, 1],\n",
       "       [4, 1],\n",
       "       [5, 1],\n",
       "       [6, 1],\n",
       "       [7, 1],\n",
       "       [7, 1],\n",
       "       [1, 1],\n",
       "       [2, 1],\n",
       "       [3, 1],\n",
       "       [4, 1],\n",
       "       [5, 1],\n",
       "       [6, 1],\n",
       "       [1, 1],\n",
       "       [2, 1],\n",
       "       [3, 1],\n",
       "       [4, 1],\n",
       "       [5, 1],\n",
       "       [6, 2],\n",
       "       [7, 2],\n",
       "       [1, 2],\n",
       "       [2, 2],\n",
       "       [3, 2],\n",
       "       [4, 2],\n",
       "       [5, 2],\n",
       "       [6, 2],\n",
       "       [7, 2],\n",
       "       [1, 2],\n",
       "       [2, 2],\n",
       "       [3, 2],\n",
       "       [4, 2],\n",
       "       [7, 2]])"
      ]
     },
     "execution_count": 33,
     "metadata": {},
     "output_type": "execute_result"
    }
   ],
   "source": [
    "x = np.array(consumption[['weekDay', 'Season']])\n",
    "x"
   ]
  },
  {
   "cell_type": "code",
   "execution_count": 34,
   "metadata": {},
   "outputs": [
    {
     "data": {
      "text/plain": [
       "array([[ 0.2674373],\n",
       "       [21.229095 ],\n",
       "       [18.2653363],\n",
       "       [24.1258349],\n",
       "       [28.2774778],\n",
       "       [50.5976197],\n",
       "       [15.4352528],\n",
       "       [ 0.3802351],\n",
       "       [33.3937308],\n",
       "       [14.783845 ],\n",
       "       [16.0999823],\n",
       "       [20.1269891],\n",
       "       [16.7147776],\n",
       "       [14.2876097],\n",
       "       [ 5.9565079],\n",
       "       [28.166318 ],\n",
       "       [14.0123686],\n",
       "       [43.6889798],\n",
       "       [52.7034858],\n",
       "       [13.21168  ],\n",
       "       [20.0583417],\n",
       "       [ 7.02074  ],\n",
       "       [ 0.281189 ],\n",
       "       [ 0.3003115],\n",
       "       [ 0.4256259],\n",
       "       [ 0.3789674],\n",
       "       [ 0.2918113],\n",
       "       [ 0.1699109],\n",
       "       [ 0.3167527],\n",
       "       [ 0.2224166],\n",
       "       [ 1.9465015],\n",
       "       [68.372277 ],\n",
       "       [ 6.4308668],\n",
       "       [ 3.0666263],\n",
       "       [ 0.2978859],\n",
       "       [ 4.0954304],\n",
       "       [ 3.5315877],\n",
       "       [ 0.2952795],\n",
       "       [ 0.2931741],\n",
       "       [ 0.293347 ],\n",
       "       [10.29877  ],\n",
       "       [ 4.1629063],\n",
       "       [ 0.1059003],\n",
       "       [ 6.2262781],\n",
       "       [ 0.2704509],\n",
       "       [ 0.3636646],\n",
       "       [ 0.2927379]])"
      ]
     },
     "execution_count": 34,
     "metadata": {},
     "output_type": "execute_result"
    }
   ],
   "source": [
    "y = np.array(consumption['consumption']).reshape(-1, 1)\n",
    "y"
   ]
  },
  {
   "cell_type": "code",
   "execution_count": 54,
   "metadata": {},
   "outputs": [
    {
     "data": {
      "text/plain": [
       "<Figure size 432x288 with 0 Axes>"
      ]
     },
     "metadata": {},
     "output_type": "display_data"
    },
    {
     "data": {
      "image/png": "[encoded data removed]",
      "text/plain": [
       "<Figure size 648x648 with 12 Axes>"
      ]
     },
     "metadata": {},
     "output_type": "display_data"
    }
   ],
   "source": [
    "plt.figure()\n",
    "sns.pairplot(consumption, size =3, markers = [\"o\"])\n",
    "plt.show()"
   ]
  },
  {
   "cell_type": "code",
   "execution_count": 55,
   "metadata": {},
   "outputs": [
    {
     "data": {
      "text/plain": [
       "KNeighborsRegressor(algorithm='auto', leaf_size=30, metric='minkowski',\n",
       "          metric_params=None, n_jobs=1, n_neighbors=7, p=2,\n",
       "          weights='distance')"
      ]
     },
     "execution_count": 55,
     "metadata": {},
     "output_type": "execute_result"
    }
   ],
   "source": [
    "knn = KNeighborsRegressor(n_neighbors = 7, weights = 'distance')\n",
    "knn.fit(x,y)"
   ]
  },
  {
   "cell_type": "code",
   "execution_count": 58,
   "metadata": {},
   "outputs": [
    {
     "data": {
      "text/plain": [
       "array([[2.10066535]])"
      ]
     },
     "execution_count": 58,
     "metadata": {},
     "output_type": "execute_result"
    }
   ],
   "source": [
    "test_data = np.array([[1,2]])\n",
    "\n",
    "knn.predict(test_data)"
   ]
  },
  {
   "cell_type": "code",
   "execution_count": 122,
   "metadata": {},
   "outputs": [
    {
     "name": "stdout",
     "output_type": "stream",
     "text": [
      "[[1 1]\n",
      " [1 2]\n",
      " [2 1]\n",
      " [2 2]\n",
      " [3 1]\n",
      " [3 2]\n",
      " [4 1]\n",
      " [4 2]\n",
      " [5 1]\n",
      " [5 2]\n",
      " [6 1]\n",
      " [6 2]\n",
      " [7 1]\n",
      " [7 2]]\n"
     ]
    }
   ],
   "source": [
    "week_days = (\"Monday\", \"Tuesday\", \"Wednesday\", \"Thursday\", \"Friday\", \"Saturday\", \"Sunday\")\n",
    "seasons = (\"Summer\", \"Winter\")\n",
    "test_data_list = []\n",
    "#test_data = np.empty(shape = (0,2))\n",
    "\n",
    "for i in range(1,8):\n",
    "    for j in range(1,3):\n",
    "        test_data_list.append([i,j])\n",
    "        #print(test_data_list)\n",
    "        #knn.predict(test_data.reshape(-1, 1))\n",
    "test_data = np.array(test_data)\n",
    "print(test_data)\n",
    "knn.pre"
   ]
  }
 ],
 "metadata": {
  "kernelspec": {
   "display_name": "Python 3",
   "language": "python",
   "name": "python3"
  },
  "language_info": {
   "codemirror_mode": {
    "name": "ipython",
    "version": 3
   },
   "file_extension": ".py",
   "mimetype": "text/x-python",
   "name": "python",
   "nbconvert_exporter": "python",
   "pygments_lexer": "ipython3",
   "version": "3.6.5"
  }
 },
 "nbformat": 4,
 "nbformat_minor": 2
}
