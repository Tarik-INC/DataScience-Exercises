{
 "cells": [
  {
   "cell_type": "code",
   "execution_count": 2,
   "metadata": {},
   "outputs": [],
   "source": [
    "import numpy as np\n",
    "import pandas as pd\n",
    "import datetime\n",
    "import matplotlib.pyplot as plt\n",
    "from sklearn.neighbors import KNeighborsRegressor"
   ]
  },
  {
   "cell_type": "code",
   "execution_count": 3,
   "metadata": {},
   "outputs": [
    {
     "name": "stdout",
     "output_type": "stream",
     "text": [
      "    weekDay  consumption\n",
      "0         1     0.267437\n",
      "1         2    21.229095\n",
      "2         3    18.265336\n",
      "3         4    24.125835\n",
      "4         5    28.277478\n",
      "5         6    50.597620\n",
      "6         7    15.435253\n",
      "7         1     0.380235\n",
      "8         2    33.393731\n",
      "9         3    14.783845\n",
      "10        4    16.099982\n",
      "11        5    20.126989\n",
      "12        6    16.714778\n",
      "13        7    14.287610\n",
      "14        1     5.956508\n",
      "15        2    28.166318\n",
      "16        3    14.012369\n",
      "17        4    43.688980\n",
      "18        5    52.703486\n",
      "19        6    13.211680\n",
      "20        7    20.058342\n",
      "21        7     7.020740\n",
      "22        1     0.281189\n",
      "23        2     0.300311\n",
      "24        3     0.425626\n",
      "25        4     0.378967\n",
      "26        5     0.291811\n",
      "27        6     0.169911\n",
      "28        1     0.316753\n",
      "29        2     0.222417\n",
      "30        3     1.946501\n",
      "31        4    68.372277\n",
      "32        5     6.430867\n",
      "33        6     3.066626\n",
      "34        7     0.297886\n",
      "35        1     4.095430\n",
      "36        2     3.531588\n",
      "37        3     0.295280\n",
      "38        4     0.293174\n",
      "39        5     0.293347\n",
      "40        6    10.298770\n",
      "41        7     4.162906\n",
      "42        1     0.105900\n",
      "43        2     6.226278\n",
      "44        3     0.270451\n",
      "45        4     0.363665\n",
      "46        7     0.292738\n"
     ]
    }
   ],
   "source": [
    "consumo_energia = pd.read_csv('Consumo.csv')\n",
    "print(consumo_energia)"
   ]
  },
  {
   "cell_type": "code",
   "execution_count": 4,
   "metadata": {},
   "outputs": [
    {
     "name": "stdout",
     "output_type": "stream",
     "text": [
      "[[1]\n",
      " [2]\n",
      " [3]\n",
      " [4]\n",
      " [5]\n",
      " [6]\n",
      " [7]\n",
      " [1]\n",
      " [2]\n",
      " [3]\n",
      " [4]\n",
      " [5]\n",
      " [6]\n",
      " [7]\n",
      " [1]\n",
      " [2]\n",
      " [3]\n",
      " [4]\n",
      " [5]\n",
      " [6]\n",
      " [7]\n",
      " [7]\n",
      " [1]\n",
      " [2]\n",
      " [3]\n",
      " [4]\n",
      " [5]\n",
      " [6]\n",
      " [1]\n",
      " [2]\n",
      " [3]\n",
      " [4]\n",
      " [5]\n",
      " [6]\n",
      " [7]\n",
      " [1]\n",
      " [2]\n",
      " [3]\n",
      " [4]\n",
      " [5]\n",
      " [6]\n",
      " [7]\n",
      " [1]\n",
      " [2]\n",
      " [3]\n",
      " [4]\n",
      " [7]]\n",
      "[[ 0.2674373]\n",
      " [21.229095 ]\n",
      " [18.2653363]\n",
      " [24.1258349]\n",
      " [28.2774778]\n",
      " [50.5976197]\n",
      " [15.4352528]\n",
      " [ 0.3802351]\n",
      " [33.3937308]\n",
      " [14.783845 ]\n",
      " [16.0999823]\n",
      " [20.1269891]\n",
      " [16.7147776]\n",
      " [14.2876097]\n",
      " [ 5.9565079]\n",
      " [28.166318 ]\n",
      " [14.0123686]\n",
      " [43.6889798]\n",
      " [52.7034858]\n",
      " [13.21168  ]\n",
      " [20.0583417]\n",
      " [ 7.02074  ]\n",
      " [ 0.281189 ]\n",
      " [ 0.3003115]\n",
      " [ 0.4256259]\n",
      " [ 0.3789674]\n",
      " [ 0.2918113]\n",
      " [ 0.1699109]\n",
      " [ 0.3167527]\n",
      " [ 0.2224166]\n",
      " [ 1.9465015]\n",
      " [68.372277 ]\n",
      " [ 6.4308668]\n",
      " [ 3.0666263]\n",
      " [ 0.2978859]\n",
      " [ 4.0954304]\n",
      " [ 3.5315877]\n",
      " [ 0.2952795]\n",
      " [ 0.2931741]\n",
      " [ 0.293347 ]\n",
      " [10.29877  ]\n",
      " [ 4.1629063]\n",
      " [ 0.1059003]\n",
      " [ 6.2262781]\n",
      " [ 0.2704509]\n",
      " [ 0.3636646]\n",
      " [ 0.2927379]]\n"
     ]
    }
   ],
   "source": [
    "x = np.array([consumo_energia['weekDay']]).reshape(-1,1)\n",
    "y = np.array([consumo_energia['consumption']]).reshape(-1,1)\n",
    "print(x)\n",
    "print(y)"
   ]
  },
  {
   "cell_type": "code",
   "execution_count": 5,
   "metadata": {},
   "outputs": [
    {
     "name": "stdout",
     "output_type": "stream",
     "text": [
      "dimensão de x é: (47, 1)\n",
      "dimensão de y é: (47, 1)\n"
     ]
    }
   ],
   "source": [
    "print(\"dimensão de x é: \" + str(x.shape))\n",
    "print(\"dimensão de y é: \" + str(y.shape))\n"
   ]
  },
  {
   "cell_type": "code",
   "execution_count": 9,
   "metadata": {},
   "outputs": [
    {
     "name": "stdout",
     "output_type": "stream",
     "text": [
      "KNeighborsRegressor(algorithm='auto', leaf_size=30, metric='minkowski',\n",
      "          metric_params=None, n_jobs=1, n_neighbors=1, p=2,\n",
      "          weights='distance')\n"
     ]
    }
   ],
   "source": [
    "knn   = KNeighborsRegressor(n_neighbors=1, weights = 'distance')\n",
    "knn_1 = knn.fit(x,y)\n",
    "print(knn)"
   ]
  },
  {
   "cell_type": "code",
   "execution_count": 14,
   "metadata": {},
   "outputs": [
    {
     "name": "stdout",
     "output_type": "stream",
     "text": [
      "KNeighborsRegressor(algorithm='auto', leaf_size=30, metric='minkowski',\n",
      "          metric_params=None, n_jobs=1, n_neighbors=5, p=2,\n",
      "          weights='distance')\n"
     ]
    }
   ],
   "source": [
    "knn = KNeighborsRegressor(n_neighbors=5, weights = 'distance')\n",
    "knn_5 = knn.fit(x,y)\n",
    "print(knn)"
   ]
  },
  {
   "cell_type": "code",
   "execution_count": 29,
   "metadata": {},
   "outputs": [],
   "source": [
    "knn   = KNeighborsRegressor(n_neighbors=7, weights = 'uniform')\n",
    "knn_7_uniform = knn.fit(x,y)"
   ]
  },
  {
   "cell_type": "code",
   "execution_count": 15,
   "metadata": {},
   "outputs": [
    {
     "name": "stdout",
     "output_type": "stream",
     "text": [
      "KNeighborsRegressor(algorithm='auto', leaf_size=30, metric='minkowski',\n",
      "          metric_params=None, n_jobs=1, n_neighbors=7, p=2,\n",
      "          weights='distance')\n"
     ]
    }
   ],
   "source": [
    "knn   = KNeighborsRegressor(n_neighbors=7, weights = 'distance')\n",
    "knn_7 = knn.fit(x,y)\n",
    "print(knn)"
   ]
  },
  {
   "cell_type": "code",
   "execution_count": 16,
   "metadata": {},
   "outputs": [
    {
     "name": "stdout",
     "output_type": "stream",
     "text": [
      "KNeighborsRegressor(algorithm='auto', leaf_size=30, metric='minkowski',\n",
      "          metric_params=None, n_jobs=1, n_neighbors=15, p=2,\n",
      "          weights='distance')\n"
     ]
    }
   ],
   "source": [
    "knn    = KNeighborsRegressor(n_neighbors=15, weights = 'distance')\n",
    "knn_15 = knn.fit(x,y)\n",
    "print(knn)"
   ]
  },
  {
   "cell_type": "code",
   "execution_count": 17,
   "metadata": {},
   "outputs": [
    {
     "name": "stdout",
     "output_type": "stream",
     "text": [
      "[[ 0.2674373]\n",
      " [21.229095 ]\n",
      " [18.2653363]\n",
      " [24.1258349]\n",
      " [28.2774778]\n",
      " [50.5976197]\n",
      " [15.4352528]]\n",
      "Monday : [0.2674373]\n",
      "Tuesday : [21.229095]\n",
      "Wednesday : [18.2653363]\n",
      "Thursday : [24.1258349]\n",
      "Friday : [28.2774778]\n",
      "Saturday : [50.5976197]\n",
      "Sunday : [15.4352528]\n"
     ]
    }
   ],
   "source": [
    "week_days = (\"Monday\",\"Tuesday\",\"Wednesday\",\"Thursday\",\"Friday\",\"Saturday\",\"Sunday\")\n",
    "int_week_days = np.arange(1,8).reshape(-1,1)\n",
    "\n",
    "result = knn_1.predict(int_week_days)\n",
    "print(result)\n",
    "\n",
    "for i in range(1,8):\n",
    "    print(f'{week_days[i-1]} : {result[i-1]}')"
   ]
  },
  {
   "cell_type": "code",
   "execution_count": 18,
   "metadata": {},
   "outputs": [
    {
     "name": "stdout",
     "output_type": "stream",
     "text": [
      "[[ 1.4404244 ]\n",
      " [16.66237438]\n",
      " [ 9.88673546]\n",
      " [30.53320828]\n",
      " [21.56612616]\n",
      " [16.7521229 ]\n",
      " [11.41996602]]\n",
      "Monday : [1.4404244]\n",
      "Tuesday : [16.66237438]\n",
      "Wednesday : [9.88673546]\n",
      "Thursday : [30.53320828]\n",
      "Friday : [21.56612616]\n",
      "Saturday : [16.7521229]\n",
      "Sunday : [11.41996602]\n"
     ]
    }
   ],
   "source": [
    "week_days = (\"Monday\",\"Tuesday\",\"Wednesday\",\"Thursday\",\"Friday\",\"Saturday\",\"Sunday\")\n",
    "int_week_days = np.arange(1,8).reshape(-1,1)\n",
    "\n",
    "result = knn_5.predict(int_week_days)\n",
    "print(result)\n",
    "\n",
    "for i in range(7):\n",
    "    print(f'{week_days[i]} : {result[i]}')"
   ]
  },
  {
   "cell_type": "code",
   "execution_count": 19,
   "metadata": {},
   "outputs": [
    {
     "data": {
      "image/png": "[encoded data removed]",
      "text/plain": [
       "<Figure size 432x288 with 1 Axes>"
      ]
     },
     "metadata": {},
     "output_type": "display_data"
    }
   ],
   "source": [
    "plt.scatter(x, y, c='k', label='data')\n",
    "plt.plot(int_week_days, result , c='g', label='prediction')\n",
    "plt.axis('tight')\n",
    "plt.legend()\n",
    "plt.title(\"KNeighborsRegressor (k = %i, weights = '%s')\" % (5,\n",
    "                                                            'distance'))\n",
    "\n",
    "plt.show()"
   ]
  },
  {
   "cell_type": "code",
   "execution_count": 35,
   "metadata": {},
   "outputs": [
    {
     "name": "stdout",
     "output_type": "stream",
     "text": [
      "[[ 1.62906467]\n",
      " [13.29567681]\n",
      " [ 7.14277253]\n",
      " [21.90326859]\n",
      " [18.02066297]\n",
      " [15.67656408]\n",
      " [ 8.79363919]]\n",
      "Monday : [1.62906467]\n",
      "Tuesday : [13.29567681]\n",
      "Wednesday : [7.14277253]\n",
      "Thursday : [21.90326859]\n",
      "Friday : [18.02066297]\n",
      "Saturday : [15.67656408]\n",
      "Sunday : [8.79363919]\n"
     ]
    }
   ],
   "source": [
    "week_days = (\"Monday\",\"Tuesday\",\"Wednesday\",\"Thursday\",\"Friday\",\"Saturday\",\"Sunday\")\n",
    "int_week_days = np.arange(1,8).reshape(-1,1)\n",
    "\n",
    "result_7 = knn_7.predict(int_week_days)\n",
    "print(result)\n",
    "\n",
    "for i in range(7):\n",
    "    print(f'{week_days[i]} : {result_7[i]}')"
   ]
  },
  {
   "cell_type": "code",
   "execution_count": 32,
   "metadata": {},
   "outputs": [
    {
     "name": "stdout",
     "output_type": "stream",
     "text": [
      "Monday : [1.62906467]\n",
      "Tuesday : [13.29567681]\n",
      "Wednesday : [7.14277253]\n",
      "Thursday : [21.90326859]\n",
      "Friday : [18.89283039]\n",
      "Saturday : [17.47669461]\n",
      "Sunday : [8.79363919]\n"
     ]
    }
   ],
   "source": [
    "result_uniform = knn_7_uniform.predict(int_week_days)\n",
    "\n",
    "for i in range(7):\n",
    "    print(f'{week_days[i]} : {result_uniform[i]}')"
   ]
  },
  {
   "cell_type": "code",
   "execution_count": 49,
   "metadata": {},
   "outputs": [
    {
     "data": {
      "image/png": "[encoded data removed]",
      "text/plain": [
       "<Figure size 432x288 with 1 Axes>"
      ]
     },
     "metadata": {},
     "output_type": "display_data"
    }
   ],
   "source": [
    "#plt.Figure(figsize = (140,140))\n",
    "plt.scatter(x, y, c='k', label='data')\n",
    "plt.plot(int_week_days, result_7 , c='g', label='prediction7')\n",
    "\n",
    "\n",
    "\n",
    "plt.plot(int_week_days, result , c='red', label='prediction5')\n",
    "plt.plot(int_week_days, result_uniform , c='blue', label='prediction5_uniform')\n",
    "\n",
    "plt.axis('tight')\n",
    "plt.title(\"KNeighborsRegressor (k = %i, weights = '%s')\" % (7,\n",
    "                                                            'distance'))\n",
    "\n",
    "\n",
    "plt.legend()\n",
    "\n",
    "\n",
    "\n",
    "\n",
    "plt.show()"
   ]
  },
  {
   "cell_type": "code",
   "execution_count": 28,
   "metadata": {},
   "outputs": [
    {
     "name": "stdout",
     "output_type": "stream",
     "text": [
      "[[ 1.62906467]\n",
      " [13.29567681]\n",
      " [ 7.14277253]\n",
      " [21.90326859]\n",
      " [18.02066297]\n",
      " [15.67656408]\n",
      " [ 8.79363919]]\n",
      "Monday : [1.62906467]\n",
      "Tuesday : [13.29567681]\n",
      "Wednesday : [7.14277253]\n",
      "Thursday : [21.90326859]\n",
      "Friday : [18.02066297]\n",
      "Saturday : [15.67656408]\n",
      "Sunday : [8.79363919]\n"
     ]
    }
   ],
   "source": [
    "week_days = (\"Monday\",\"Tuesday\",\"Wednesday\",\"Thursday\",\"Friday\",\"Saturday\",\"Sunday\")\n",
    "int_week_days = np.arange(1,8).reshape(-1,1)\n",
    "\n",
    "result = knn_15.predict(int_week_days)\n",
    "print(result)\n",
    "\n",
    "for i in range(7):\n",
    "    print(f'{week_days[i]} : {result[i]}')"
   ]
  }
 ],
 "metadata": {
  "kernelspec": {
   "display_name": "Python 3",
   "language": "python",
   "name": "python3"
  },
  "language_info": {
   "codemirror_mode": {
    "name": "ipython",
    "version": 3
   },
   "file_extension": ".py",
   "mimetype": "text/x-python",
   "name": "python",
   "nbconvert_exporter": "python",
   "pygments_lexer": "ipython3",
   "version": "3.6.5"
  }
 },
 "nbformat": 4,
 "nbformat_minor": 2
}
